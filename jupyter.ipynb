{
 "cells": [
  {
   "cell_type": "markdown",
   "metadata": {},
   "source": [
    "# Step 1: Data Collection and Provenance\n",
    "\n",
    "## Project Overview\n",
    "This project focuses on customer segmentation using retail data. I aim to apply unsupervised learning techniques to identify distinct customer groups based on demographics and spending behavior.\n",
    "\n",
    "## Data Source and Description\n",
    "The dataset used is `Mall_Customers.csv`, which contains the following columns:\n",
    "- **CustomerID:** Unique identifier for each customer.\n",
    "- **Gender:** The gender of the customer.\n",
    "- **Age:** The age of the customer.\n",
    "- **Annual Income (k$):** Customer's annual income in thousands.\n",
    "- **Spending Score (1-100):** A score indicating the customer's spending behavior.\n",
    "\n",
    "### Provenance\n",
    "- **Origin:** The dataset is a commonly used sample for customer segmentation analysis. (https://www.kaggle.com/datasets/vjchoudhary7/customer-segmentation-tutorial-in-python/data)\n",
    "\n",
    "## Environment Setup Using Poetry and WSL\n",
    "I used [Poetry](https://python-poetry.org/) for dependency management and WSL within VS Code IDE for a consistent development environment.\n",
    "\n",
    "### Initializing the Project with Poetry:\n",
    "```bash\n",
    "poetry init --no-interaction\n",
    "poetry add pandas numpy matplotlib scikit-learn seaborn jupyter\n"
   ]
  },
  {
   "cell_type": "markdown",
   "metadata": {},
   "source": []
  }
 ],
 "metadata": {
  "language_info": {
   "name": "python"
  }
 },
 "nbformat": 4,
 "nbformat_minor": 2
}
